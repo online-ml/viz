{
  "cells": [
    {
      "cell_type": "code",
      "execution_count": null,
      "metadata": {
        "collapsed": false
      },
      "outputs": [],
      "source": [
        "%matplotlib inline"
      ]
    },
    {
      "cell_type": "markdown",
      "metadata": {},
      "source": [
        "\n# Introductory example - Finding Model Data\n\nOften you are interested in plotting data relevant to a model. For example, for\nsome kind of clustering that maintains a group of centroids, you might want to\ngenerate a plot of those centroids.\n"
      ]
    },
    {
      "cell_type": "code",
      "execution_count": null,
      "metadata": {
        "collapsed": false
      },
      "outputs": [],
      "source": [
        "from river import feature_extraction, cluster, stream\nfrom sklearn import datasets\nimport numpy as np\nimport matplotlib.pyplot as plt"
      ]
    },
    {
      "cell_type": "markdown",
      "metadata": {},
      "source": [
        "Here we want to generate a clustering and view the centroids. This is a static\nvisualization because the plot will not change in real time.\n\n"
      ]
    },
    {
      "cell_type": "code",
      "execution_count": null,
      "metadata": {
        "collapsed": false
      },
      "outputs": [],
      "source": [
        "model = cluster.DBSTREAM()\ndataset = datasets.load_iris()\nfor x, _ in stream.iter_sklearn_dataset(dataset):\n   model.learn_one(x=x)"
      ]
    },
    {
      "cell_type": "markdown",
      "metadata": {},
      "source": [
        "We will run all the points through the prediction first to force\npopulating the clusters.\n\n"
      ]
    },
    {
      "cell_type": "code",
      "execution_count": null,
      "metadata": {
        "collapsed": false
      },
      "outputs": [],
      "source": [
        "for x, _ in stream.iter_sklearn_dataset(dataset):\n   model.predict_one(x=x)"
      ]
    },
    {
      "cell_type": "markdown",
      "metadata": {},
      "source": [
        "When you want to find centers for a cluster model, they will usually be at \nmodels.centers. If you have a pipeline, you will need ot look at ``model.steps``\nand index your model name (e.g., DBSTREAM) to find the same.\n\n"
      ]
    },
    {
      "cell_type": "code",
      "execution_count": null,
      "metadata": {
        "collapsed": false
      },
      "outputs": [],
      "source": [
        "centers = model.centers"
      ]
    },
    {
      "cell_type": "markdown",
      "metadata": {},
      "source": [
        "Here is the most basic example of choosing two features and plotting them \nagainst x and y. You could also use TSNE and UMAP (provided in other examples)\nto map the centers to a lower 2D space and do the same.\n\n"
      ]
    },
    {
      "cell_type": "code",
      "execution_count": null,
      "metadata": {
        "collapsed": false
      },
      "outputs": [],
      "source": [
        "features = ['sepal length (cm)', 'sepal width (cm)', 'petal length (cm)', 'petal width (cm)']\n\n# Prepare subplots!\nfig, axs = plt.subplots(4, 4, figsize=(12, 12), sharey=True)\nidxs = [(i,j) for i in range(4) for j in range(4)]\n\nfor f1 in features:\n    for f2 in features:  \n        x = [d[f1] for _, d in centers.items()]\n        y = [d[f2] for _, d in centers.items()]\n        idx = idxs.pop(0)\n        axis = axs[idx[0]][idx[1]]\n        axis.scatter(x, y)\n        axis.set_xlabel(f1)\n        axis.set_ylabel(f2)\n\nfig.suptitle('Iris Dataset Comparison')\nfig.show()\n\nprint('This example shows plotting each of sepal width/length against petal width/length!')"
      ]
    }
  ],
  "metadata": {
    "kernelspec": {
      "display_name": "Python 3",
      "language": "python",
      "name": "python3"
    },
    "language_info": {
      "codemirror_mode": {
        "name": "ipython",
        "version": 3
      },
      "file_extension": ".py",
      "mimetype": "text/x-python",
      "name": "python",
      "nbconvert_exporter": "python",
      "pygments_lexer": "ipython3",
      "version": "3.8.8"
    }
  },
  "nbformat": 4,
  "nbformat_minor": 0
}